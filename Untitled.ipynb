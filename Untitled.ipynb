{
 "cells": [
  {
   "cell_type": "code",
   "execution_count": null,
   "metadata": {
    "tags": []
   },
   "outputs": [],
   "source": [
    "!pip install /tf/notebooks/requirements.txt -vv"
   ]
  },
  {
   "cell_type": "code",
   "execution_count": null,
   "metadata": {
    "scrolled": true
   },
   "outputs": [],
   "source": [
    "!pip show pandas"
   ]
  },
  {
   "cell_type": "code",
   "execution_count": null,
   "metadata": {},
   "outputs": [],
   "source": [
    "\n",
    "from tensorflow.python.client import device_lib\n",
    "\n",
    "import tensorflow as tf"
   ]
  },
  {
   "cell_type": "code",
   "execution_count": null,
   "metadata": {},
   "outputs": [],
   "source": [
    "device_lib.list_local_devices()"
   ]
  },
  {
   "cell_type": "code",
   "execution_count": null,
   "metadata": {},
   "outputs": [],
   "source": [
    "tf.config.list_physical_devices('GPU')"
   ]
  },
  {
   "cell_type": "code",
   "execution_count": 1,
   "metadata": {
    "tags": []
   },
   "outputs": [],
   "source": [
    "import pandas as pd"
   ]
  },
  {
   "cell_type": "code",
   "execution_count": 3,
   "metadata": {},
   "outputs": [],
   "source": [
    "!tar -xf balanced_faces_Equalizedface.tar"
   ]
  },
  {
   "cell_type": "code",
   "execution_count": 2,
   "metadata": {
    "collapsed": true,
    "jupyter": {
     "outputs_hidden": true,
     "source_hidden": true
    },
    "tags": []
   },
   "outputs": [
    {
     "data": {
      "text/html": [
       "<div>\n",
       "<style scoped>\n",
       "    .dataframe tbody tr th:only-of-type {\n",
       "        vertical-align: middle;\n",
       "    }\n",
       "\n",
       "    .dataframe tbody tr th {\n",
       "        vertical-align: top;\n",
       "    }\n",
       "\n",
       "    .dataframe thead th {\n",
       "        text-align: right;\n",
       "    }\n",
       "</style>\n",
       "<table border=\"1\" class=\"dataframe\">\n",
       "  <thead>\n",
       "    <tr style=\"text-align: right;\">\n",
       "      <th></th>\n",
       "      <th>original_image</th>\n",
       "      <th>original_person</th>\n",
       "      <th>compare_person</th>\n",
       "      <th>compare_image</th>\n",
       "      <th>is_same_person</th>\n",
       "    </tr>\n",
       "  </thead>\n",
       "  <tbody>\n",
       "    <tr>\n",
       "      <th>0</th>\n",
       "      <td>data/race_per_7000/African/m.07t_12/1-FaceId-0...</td>\n",
       "      <td>data/race_per_7000/African/m.07t_12</td>\n",
       "      <td>data/race_per_7000/African/m.07t_12</td>\n",
       "      <td>data/race_per_7000/African/m.07t_12/44-FaceId-...</td>\n",
       "      <td>True</td>\n",
       "    </tr>\n",
       "    <tr>\n",
       "      <th>0</th>\n",
       "      <td>data/race_per_7000/African/m.03v416/32-FaceId-...</td>\n",
       "      <td>data/race_per_7000/African/m.03v416</td>\n",
       "      <td>data/race_per_7000/African/m.03v416</td>\n",
       "      <td>data/race_per_7000/African/m.03v416/8-FaceId-0...</td>\n",
       "      <td>True</td>\n",
       "    </tr>\n",
       "    <tr>\n",
       "      <th>0</th>\n",
       "      <td>data/race_per_7000/African/m.07vcky/2-FaceId-0...</td>\n",
       "      <td>data/race_per_7000/African/m.07vcky</td>\n",
       "      <td>data/race_per_7000/African/m.0h23knh</td>\n",
       "      <td>data/race_per_7000/African/m.0h23knh/0-FaceId-...</td>\n",
       "      <td>False</td>\n",
       "    </tr>\n",
       "    <tr>\n",
       "      <th>0</th>\n",
       "      <td>data/race_per_7000/African/m.02820z5/27-FaceId...</td>\n",
       "      <td>data/race_per_7000/African/m.02820z5</td>\n",
       "      <td>data/race_per_7000/African/m.01449w</td>\n",
       "      <td>data/race_per_7000/African/m.01449w/34-FaceId-...</td>\n",
       "      <td>False</td>\n",
       "    </tr>\n",
       "    <tr>\n",
       "      <th>0</th>\n",
       "      <td>data/race_per_7000/African/m.04qndd/11-FaceId-...</td>\n",
       "      <td>data/race_per_7000/African/m.04qndd</td>\n",
       "      <td>data/race_per_7000/African/m.04qndd</td>\n",
       "      <td>data/race_per_7000/African/m.04qndd/64-FaceId-...</td>\n",
       "      <td>True</td>\n",
       "    </tr>\n",
       "    <tr>\n",
       "      <th>...</th>\n",
       "      <td>...</td>\n",
       "      <td>...</td>\n",
       "      <td>...</td>\n",
       "      <td>...</td>\n",
       "      <td>...</td>\n",
       "    </tr>\n",
       "    <tr>\n",
       "      <th>0</th>\n",
       "      <td>data/race_per_7000/African/m.03f4sg/41-FaceId-...</td>\n",
       "      <td>data/race_per_7000/African/m.03f4sg</td>\n",
       "      <td>data/race_per_7000/African/m.03f4sg</td>\n",
       "      <td>data/race_per_7000/African/m.03f4sg/20-FaceId-...</td>\n",
       "      <td>True</td>\n",
       "    </tr>\n",
       "    <tr>\n",
       "      <th>0</th>\n",
       "      <td>data/race_per_7000/African/m.04wml8/10-FaceId-...</td>\n",
       "      <td>data/race_per_7000/African/m.04wml8</td>\n",
       "      <td>data/race_per_7000/African/m.075y7s</td>\n",
       "      <td>data/race_per_7000/African/m.075y7s/13-FaceId-...</td>\n",
       "      <td>False</td>\n",
       "    </tr>\n",
       "    <tr>\n",
       "      <th>0</th>\n",
       "      <td>data/race_per_7000/African/m.05b_0y/37-FaceId-...</td>\n",
       "      <td>data/race_per_7000/African/m.05b_0y</td>\n",
       "      <td>data/race_per_7000/African/m.06436c</td>\n",
       "      <td>data/race_per_7000/African/m.06436c/42-FaceId-...</td>\n",
       "      <td>False</td>\n",
       "    </tr>\n",
       "    <tr>\n",
       "      <th>0</th>\n",
       "      <td>data/race_per_7000/African/m.04_0_z_/96-FaceId...</td>\n",
       "      <td>data/race_per_7000/African/m.04_0_z_</td>\n",
       "      <td>data/race_per_7000/African/m.04_0_z_</td>\n",
       "      <td>data/race_per_7000/African/m.04_0_z_/62-FaceId...</td>\n",
       "      <td>True</td>\n",
       "    </tr>\n",
       "    <tr>\n",
       "      <th>0</th>\n",
       "      <td>data/race_per_7000/African/m.0b6fbv3/96-FaceId...</td>\n",
       "      <td>data/race_per_7000/African/m.0b6fbv3</td>\n",
       "      <td>data/race_per_7000/African/m.0b6fbv3</td>\n",
       "      <td>data/race_per_7000/African/m.0b6fbv3/1-FaceId-...</td>\n",
       "      <td>True</td>\n",
       "    </tr>\n",
       "  </tbody>\n",
       "</table>\n",
       "<p>7000 rows × 5 columns</p>\n",
       "</div>"
      ],
      "text/plain": [
       "                                       original_image  \\\n",
       "0   data/race_per_7000/African/m.07t_12/1-FaceId-0...   \n",
       "0   data/race_per_7000/African/m.03v416/32-FaceId-...   \n",
       "0   data/race_per_7000/African/m.07vcky/2-FaceId-0...   \n",
       "0   data/race_per_7000/African/m.02820z5/27-FaceId...   \n",
       "0   data/race_per_7000/African/m.04qndd/11-FaceId-...   \n",
       "..                                                ...   \n",
       "0   data/race_per_7000/African/m.03f4sg/41-FaceId-...   \n",
       "0   data/race_per_7000/African/m.04wml8/10-FaceId-...   \n",
       "0   data/race_per_7000/African/m.05b_0y/37-FaceId-...   \n",
       "0   data/race_per_7000/African/m.04_0_z_/96-FaceId...   \n",
       "0   data/race_per_7000/African/m.0b6fbv3/96-FaceId...   \n",
       "\n",
       "                         original_person  \\\n",
       "0    data/race_per_7000/African/m.07t_12   \n",
       "0    data/race_per_7000/African/m.03v416   \n",
       "0    data/race_per_7000/African/m.07vcky   \n",
       "0   data/race_per_7000/African/m.02820z5   \n",
       "0    data/race_per_7000/African/m.04qndd   \n",
       "..                                   ...   \n",
       "0    data/race_per_7000/African/m.03f4sg   \n",
       "0    data/race_per_7000/African/m.04wml8   \n",
       "0    data/race_per_7000/African/m.05b_0y   \n",
       "0   data/race_per_7000/African/m.04_0_z_   \n",
       "0   data/race_per_7000/African/m.0b6fbv3   \n",
       "\n",
       "                          compare_person  \\\n",
       "0    data/race_per_7000/African/m.07t_12   \n",
       "0    data/race_per_7000/African/m.03v416   \n",
       "0   data/race_per_7000/African/m.0h23knh   \n",
       "0    data/race_per_7000/African/m.01449w   \n",
       "0    data/race_per_7000/African/m.04qndd   \n",
       "..                                   ...   \n",
       "0    data/race_per_7000/African/m.03f4sg   \n",
       "0    data/race_per_7000/African/m.075y7s   \n",
       "0    data/race_per_7000/African/m.06436c   \n",
       "0   data/race_per_7000/African/m.04_0_z_   \n",
       "0   data/race_per_7000/African/m.0b6fbv3   \n",
       "\n",
       "                                        compare_image  is_same_person  \n",
       "0   data/race_per_7000/African/m.07t_12/44-FaceId-...            True  \n",
       "0   data/race_per_7000/African/m.03v416/8-FaceId-0...            True  \n",
       "0   data/race_per_7000/African/m.0h23knh/0-FaceId-...           False  \n",
       "0   data/race_per_7000/African/m.01449w/34-FaceId-...           False  \n",
       "0   data/race_per_7000/African/m.04qndd/64-FaceId-...            True  \n",
       "..                                                ...             ...  \n",
       "0   data/race_per_7000/African/m.03f4sg/20-FaceId-...            True  \n",
       "0   data/race_per_7000/African/m.075y7s/13-FaceId-...           False  \n",
       "0   data/race_per_7000/African/m.06436c/42-FaceId-...           False  \n",
       "0   data/race_per_7000/African/m.04_0_z_/62-FaceId...            True  \n",
       "0   data/race_per_7000/African/m.0b6fbv3/1-FaceId-...            True  \n",
       "\n",
       "[7000 rows x 5 columns]"
      ]
     },
     "execution_count": 2,
     "metadata": {},
     "output_type": "execute_result"
    }
   ],
   "source": [
    "pd.read_pickle(\"/tf/notebooks/data/val_data/African/result_dict1.pickle\")"
   ]
  },
  {
   "cell_type": "code",
   "execution_count": 10,
   "metadata": {},
   "outputs": [],
   "source": [
    "!cd /tf/notebooks/"
   ]
  },
  {
   "cell_type": "code",
   "execution_count": 1,
   "metadata": {},
   "outputs": [],
   "source": [
    "import pandas as pd"
   ]
  },
  {
   "cell_type": "code",
   "execution_count": 13,
   "metadata": {},
   "outputs": [],
   "source": [
    "data = pd.read_pickle(\"results/facenet/African/result_dict1.pickle\")"
   ]
  },
  {
   "cell_type": "code",
   "execution_count": 20,
   "metadata": {},
   "outputs": [],
   "source": [
    "data_comp = data[\"data\"].reset_index()"
   ]
  },
  {
   "cell_type": "code",
   "execution_count": null,
   "metadata": {},
   "outputs": [],
   "source": []
  },
  {
   "cell_type": "code",
   "execution_count": 26,
   "metadata": {},
   "outputs": [
    {
     "data": {
      "text/plain": [
       "'data/race_per_7000/African/m.03c4nns/57-FaceId-0_align.jpg'"
      ]
     },
     "execution_count": 26,
     "metadata": {},
     "output_type": "execute_result"
    }
   ],
   "source": [
    "data_comp[data_comp.distance>1].loc[6990].original_image"
   ]
  },
  {
   "cell_type": "code",
   "execution_count": 25,
   "metadata": {},
   "outputs": [
    {
     "data": {
      "text/plain": [
       "'data/race_per_7000/African/m.02rtz9c/40-FaceId-0_align.jpg'"
      ]
     },
     "execution_count": 25,
     "metadata": {},
     "output_type": "execute_result"
    }
   ],
   "source": [
    "data_comp[data_comp.distance>1].loc[6990].compare_image          "
   ]
  },
  {
   "cell_type": "code",
   "execution_count": null,
   "metadata": {},
   "outputs": [],
   "source": []
  }
 ],
 "metadata": {
  "kernelspec": {
   "display_name": "Python 3 (ipykernel)",
   "language": "python",
   "name": "python3"
  },
  "language_info": {
   "codemirror_mode": {
    "name": "ipython",
    "version": 3
   },
   "file_extension": ".py",
   "mimetype": "text/x-python",
   "name": "python",
   "nbconvert_exporter": "python",
   "pygments_lexer": "ipython3",
   "version": "3.8.10"
  }
 },
 "nbformat": 4,
 "nbformat_minor": 4
}
