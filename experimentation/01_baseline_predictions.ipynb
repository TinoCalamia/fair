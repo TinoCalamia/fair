{
 "cells": [
  {
   "cell_type": "markdown",
   "id": "ecbb03a7-9a9f-4f81-aa94-3f92b8b78493",
   "metadata": {
    "tags": []
   },
   "source": [
    "# TODO:\n",
    "\n",
    "* Add vertical line for means in bar/distribution plots? Or lower and higher quantiles?\n",
    "* Evaluate AUROC score without setting a threshold (just African and Asian have to be re-done)\n",
    "* Find similarities in really wrong predictions"
   ]
  },
  {
   "cell_type": "code",
   "execution_count": 1,
   "id": "ddf4dd8c-47ed-44c3-97c7-485e4515d19c",
   "metadata": {},
   "outputs": [],
   "source": [
    "!cd /tf/notebooks"
   ]
  },
  {
   "cell_type": "code",
   "execution_count": 2,
   "id": "5f8a6930-1279-4b3f-981d-8e45c09c4f7f",
   "metadata": {},
   "outputs": [
    {
     "name": "stdout",
     "output_type": "stream",
     "text": [
      "/tf/notebooks\n"
     ]
    }
   ],
   "source": [
    "!pwd"
   ]
  },
  {
   "cell_type": "markdown",
   "id": "0fcc302f-d7ad-48b3-9012-3ca386e6db58",
   "metadata": {
    "tags": []
   },
   "source": [
    "# Import Libraries"
   ]
  },
  {
   "cell_type": "code",
   "execution_count": 3,
   "id": "b19e8ff1-5b79-43b0-bc49-9b24dfa5c757",
   "metadata": {
    "tags": []
   },
   "outputs": [],
   "source": [
    "import numpy as np\n",
    "import matplotlib.pyplot as plt\n",
    "import os\n",
    "import pandas as pd\n",
    "import pickle\n",
    "import seaborn as sns\n",
    "import random\n",
    "import re\n",
    "from sklearn.metrics import roc_auc_score, classification_report, precision_score, accuracy_score\n",
    "from sklearn.preprocessing import MinMaxScaler\n",
    "from sklearn.utils import shuffle\n",
    "import scipy.stats as st\n",
    "import tensorflow as tf\n",
    "\n",
    "from utils import create_base_race_df, create_evaluation_dataset, verify_faces\n",
    "\n",
    "import cv2\n"
   ]
  },
  {
   "cell_type": "code",
   "execution_count": 4,
   "id": "d199dd0e-912c-44c8-a088-c4e5598f825d",
   "metadata": {},
   "outputs": [
    {
     "name": "stdout",
     "output_type": "stream",
     "text": [
      "Num GPUs Available:  1\n",
      "[PhysicalDevice(name='/physical_device:GPU:0', device_type='GPU')]\n"
     ]
    }
   ],
   "source": [
    "print(\"Num GPUs Available: \", len(tf.config.list_physical_devices('GPU')))\n",
    "print(tf.config.list_physical_devices('GPU'))"
   ]
  },
  {
   "cell_type": "code",
   "execution_count": 5,
   "id": "bda97dde-2bf6-4b02-ae22-cc2b117fc125",
   "metadata": {
    "tags": []
   },
   "outputs": [],
   "source": [
    "#!pip install deepface==0.0.73 --force-reinstall"
   ]
  },
  {
   "cell_type": "code",
   "execution_count": 6,
   "id": "b809a948-6d2f-46b0-bcc0-07ec705ca0ff",
   "metadata": {},
   "outputs": [],
   "source": [
    "from deepface import DeepFace"
   ]
  },
  {
   "cell_type": "markdown",
   "id": "40aa5d40-3fcb-44ec-b611-089a9c2d03a5",
   "metadata": {},
   "source": [
    "# Google FaceNet"
   ]
  },
  {
   "cell_type": "code",
   "execution_count": null,
   "id": "5c8c9194-cc2e-4670-b298-d1a778c73a77",
   "metadata": {
    "tags": []
   },
   "outputs": [],
   "source": [
    "model_names = [\"VGG-Face\", \"Facenet\", \"Facenet512\", \"OpenFace\", \"DeepFace\", \"DeepID\", \"ArcFace\", \"Dlib\"]"
   ]
  },
  {
   "cell_type": "code",
   "execution_count": null,
   "id": "7d82a392-d260-4261-a3aa-c2c4ee0232b1",
   "metadata": {},
   "outputs": [],
   "source": [
    "vgg_face = DeepFace.build_model(\"VGG-Face\")"
   ]
  },
  {
   "cell_type": "code",
   "execution_count": null,
   "id": "3656927b-951c-4bef-a4f5-04dbf8628cdc",
   "metadata": {},
   "outputs": [],
   "source": [
    "facenet512 = DeepFace.build_model(\"Facenet512\")"
   ]
  },
  {
   "cell_type": "code",
   "execution_count": null,
   "id": "3385104e-e965-4e7e-86bf-d367d1c1badd",
   "metadata": {},
   "outputs": [],
   "source": [
    "arcface = DeepFace.build_model(\"ArcFace\")"
   ]
  },
  {
   "cell_type": "code",
   "execution_count": null,
   "id": "a61e95b6-6d78-48e0-b876-7c9a16b0af02",
   "metadata": {},
   "outputs": [],
   "source": [
    "metrics = [\"cosine\", \"euclidean\", \"euclidean_l2\"]"
   ]
  },
  {
   "cell_type": "markdown",
   "id": "f79c7869-b35f-4c21-9b99-0de147a29ba9",
   "metadata": {
    "tags": []
   },
   "source": [
    "# Evaluation concept\n",
    "\n",
    "Frame as binary classification problem and use AUROC as metric"
   ]
  },
  {
   "cell_type": "markdown",
   "id": "59e53d5c-5716-45ec-aa1f-16bc71b39d7f",
   "metadata": {},
   "source": [
    "## African"
   ]
  },
  {
   "cell_type": "code",
   "execution_count": null,
   "id": "f78e79fb-40bf-42cb-b657-86f4b38db15c",
   "metadata": {
    "tags": []
   },
   "outputs": [],
   "source": [
    "# Create new validation data\n",
    "\n",
    "\n",
    "# evaluation_african = create_base_race_df('African', size = 10000)\n",
    "# eval_dataset_african = create_evaluation_dataset(evaluation_african)"
   ]
  },
  {
   "cell_type": "code",
   "execution_count": null,
   "id": "99939433-3ea3-4c44-a1bf-66382193bece",
   "metadata": {
    "tags": []
   },
   "outputs": [],
   "source": [
    "%%time\n",
    "with tf.device('/gpu:0'):\n",
    "    for i in range(1,6):\n",
    "        data = pd.read_pickle(f'data/val_data/African/result_dict{i}.pickle')\n",
    "        results = verify_faces(df = data,\n",
    "                        model = vgg_face, \n",
    "                        face_count=7000)\n",
    "        with open(f\"results/vgg_face/African/result_dict{i}.pickle\", \"wb\") as file:\n",
    "            pickle.dump(results, file)"
   ]
  },
  {
   "cell_type": "markdown",
   "id": "292f5c09-16a1-48c0-abf9-5a0aff94a904",
   "metadata": {},
   "source": [
    "## Asian"
   ]
  },
  {
   "cell_type": "code",
   "execution_count": null,
   "id": "0b4eb249-1e16-46f4-9672-a24936e19e2d",
   "metadata": {},
   "outputs": [],
   "source": [
    "# Create new validation data\n",
    "\n",
    "# evaluation_asian = create_base_race_df('Asian', size = 100000)\n",
    "# eval_dataset_asian = create_evaluation_dataset(evaluation_asian)"
   ]
  },
  {
   "cell_type": "code",
   "execution_count": null,
   "id": "8e7514c6-07b8-4d81-b2c5-8bfadcc5de01",
   "metadata": {
    "tags": []
   },
   "outputs": [],
   "source": [
    "%%time\n",
    "with tf.device('/gpu:0'):\n",
    "    for i in range(1,6):\n",
    "        data = pd.read_pickle(f'data/val_data/Asian/result_dict{i}.pickle')\n",
    "        results = verify_faces(df = data,\n",
    "                        model = vgg_face, \n",
    "                        face_count=7000)\n",
    "        with open(f\"results/vgg_face/Asian/result_dict{i}.pickle\", \"wb\") as file:\n",
    "            pickle.dump(results, file)"
   ]
  },
  {
   "cell_type": "markdown",
   "id": "1db464f0-0b6c-4faf-9ea2-482efab3e853",
   "metadata": {
    "tags": []
   },
   "source": [
    "## Indian"
   ]
  },
  {
   "cell_type": "code",
   "execution_count": null,
   "id": "a834eaa8-7988-4202-b522-dd36bcf317e7",
   "metadata": {},
   "outputs": [],
   "source": [
    "# create new validation data\n",
    "\n",
    "# evaluation_indian = create_base_race_df('Indian', size = 100000)\n",
    "# eval_dataset_indian = create_evaluation_dataset(evaluation_indian)"
   ]
  },
  {
   "cell_type": "code",
   "execution_count": null,
   "id": "a6c071d4-540e-40be-a2d9-bbb43817ba46",
   "metadata": {
    "tags": []
   },
   "outputs": [],
   "source": [
    "%%time\n",
    "with tf.device('/gpu:0'):\n",
    "    for i in range(1,6):\n",
    "        data = pd.read_pickle(f'data/val_data/Indian/result_dict{i}.pickle')\n",
    "        results = verify_faces(df = data,\n",
    "                        model = vgg_face, \n",
    "                        face_count=7000)\n",
    "        with open(f\"results/vgg_face/Indian/result_dict{i}.pickle\", \"wb\") as file:\n",
    "            pickle.dump(results, file)"
   ]
  },
  {
   "cell_type": "markdown",
   "id": "e0847948-66e5-4d7f-b1f7-7c70bd18e59b",
   "metadata": {
    "tags": []
   },
   "source": [
    "## Caucasian"
   ]
  },
  {
   "cell_type": "code",
   "execution_count": null,
   "id": "ed1bbd94-9d11-4bb0-88b9-4708bb87f27f",
   "metadata": {},
   "outputs": [],
   "source": [
    "# Create new validation data\n",
    "\n",
    "# evaluation_caucasian = create_base_race_df('Caucasian', size = 100000)\n",
    "# eval_dataset_caucasian = create_evaluation_dataset(evaluation_caucasian)"
   ]
  },
  {
   "cell_type": "code",
   "execution_count": null,
   "id": "63050723-c7bf-4752-9522-e31d3fc4ddc2",
   "metadata": {
    "tags": []
   },
   "outputs": [],
   "source": [
    "%%time\n",
    "with tf.device('/gpu:0'):\n",
    "    for i in range(1,6):\n",
    "        data = pd.read_pickle(f'data/val_data/Caucasian/result_dict{i}.pickle')\n",
    "        results = verify_faces(df = data,\n",
    "                        model = vgg_face, \n",
    "                        face_count=7000)\n",
    "        with open(f\"results/vgg_face/Caucasian/result_dict{i}.pickle\", \"wb\") as file:\n",
    "            pickle.dump(results, file)"
   ]
  },
  {
   "cell_type": "code",
   "execution_count": null,
   "id": "e4221443-18dd-4d5b-b2fa-b496429f6b0d",
   "metadata": {},
   "outputs": [],
   "source": [
    "# PROCESSING STEPS\n",
    "\n",
    "#from PIL import Image\n",
    "#picture= Image.open(r'data/race_per_7000/African/m.05hgfh/13-FaceId-0_align.jpg') \n",
    "#picture2= Image.open(r'data/race_per_7000/African/m.05hgfh/13-FaceId-0_align.jpg')\n",
    "#\n",
    "#test= tf.image.rgb_to_grayscale(picture)\n",
    "#DeepFace.verify(img1_path = np.array(picture),\n",
    "                          #img2_path = np.array(picture2),\n",
    "                          #distance_metric = metrics[0],\n",
    "                        #model = facenet512,\n",
    "                        #enforce_detection=False)"
   ]
  },
  {
   "cell_type": "markdown",
   "id": "4bc07599-06ee-486e-a33c-cdda71f67621",
   "metadata": {},
   "source": [
    "# Predict"
   ]
  },
  {
   "cell_type": "code",
   "execution_count": 7,
   "id": "3b238351-9b1e-440a-ba3e-4646255df752",
   "metadata": {},
   "outputs": [],
   "source": [
    "vgg_face = DeepFace.build_model(\"VGG-Face\")"
   ]
  },
  {
   "cell_type": "code",
   "execution_count": 8,
   "id": "9fd31f01-bb6a-496c-af17-a11c2128f655",
   "metadata": {},
   "outputs": [],
   "source": [
    "tf.debugging.set_log_device_placement(True)\n"
   ]
  },
  {
   "cell_type": "code",
   "execution_count": 9,
   "id": "47f99158-7249-4006-a5ae-35d8b79a80a4",
   "metadata": {},
   "outputs": [
    {
     "name": "stdout",
     "output_type": "stream",
     "text": [
      "24.7 s ± 2.64 s per loop (mean ± std. dev. of 7 runs, 1 loop each)\n"
     ]
    }
   ],
   "source": [
    "%%timeit\n",
    "with tf.device('/GPU:0'):\n",
    "    data = pd.read_pickle(f'data/val_data/Caucasian/result_dict1.pickle')\n",
    "    results = verify_faces(df = data,\n",
    "                    model = vgg_face, \n",
    "                    face_count=100)"
   ]
  },
  {
   "cell_type": "code",
   "execution_count": 10,
   "id": "d94ca880-59d0-440e-b0c8-32d5c76f4c39",
   "metadata": {},
   "outputs": [
    {
     "name": "stderr",
     "output_type": "stream",
     "text": [
      "2022-03-17 18:42:14.938853: E tensorflow/stream_executor/cuda/cuda_driver.cc:802] failed to alloc 536870912 bytes on host: CUDA_ERROR_OUT_OF_MEMORY: out of memory\n"
     ]
    },
    {
     "name": "stdout",
     "output_type": "stream",
     "text": [
      "41.9 s ± 1.75 s per loop (mean ± std. dev. of 7 runs, 1 loop each)\n"
     ]
    }
   ],
   "source": [
    "%%timeit\n",
    "with tf.device('/CPU:0'):\n",
    "    data = pd.read_pickle(f'data/val_data/Caucasian/result_dict1.pickle')\n",
    "    results = verify_faces(df = data,\n",
    "                    model = vgg_face, \n",
    "                    face_count=100)"
   ]
  },
  {
   "cell_type": "code",
   "execution_count": null,
   "id": "390a2d39-62da-4ae4-90b4-9e298e617704",
   "metadata": {},
   "outputs": [],
   "source": [
    "df=data\n",
    "model=vgg_face\n",
    "performance_metrics= [roc_auc_score, accuracy_score]\n",
    "face_count= 100\n",
    "distance_metric='cosine'"
   ]
  },
  {
   "cell_type": "code",
   "execution_count": null,
   "id": "c8d147fc-0dc0-40b6-884d-bd386a7133c1",
   "metadata": {},
   "outputs": [],
   "source": [
    "df['distance'] = np.nan\n",
    "df['verified'] = np.nan\n",
    "\n",
    "df=df.sample(frac=1)[:face_count]\n",
    "\n",
    "for i in range(0,len(df)):\n",
    "\n",
    "    verification_result = DeepFace.verify(img1_path = df.iloc[i].original_image,\n",
    "                      img2_path = df.iloc[i].compare_image,\n",
    "                      distance_metric = distance_metric,\n",
    "                       model = model,\n",
    "                    enforce_detection=False)\n",
    "    df.distance.iloc[i] = verification_result['distance']\n",
    "    df.verified.iloc[i] = verification_result['verified']\n",
    "\n",
    "df = normalize_distances(df)\n",
    "results = {}\n",
    "results['data'] = df\n",
    "results['max_threshold_to_verify'] = verification_result['max_threshold_to_verify']\n",
    "\n",
    "for metric in performance_metrics:\n",
    "    results[metric.__name__] = metric(df.is_same_person.astype(bool),df.verified_normalised.astype(bool))"
   ]
  },
  {
   "cell_type": "code",
   "execution_count": null,
   "id": "5993c63d-559e-4551-b98b-455868be5960",
   "metadata": {},
   "outputs": [],
   "source": [
    "df"
   ]
  },
  {
   "cell_type": "code",
   "execution_count": null,
   "id": "38332103-4568-4e10-a2b6-1b799695192f",
   "metadata": {},
   "outputs": [],
   "source": []
  }
 ],
 "metadata": {
  "environment": {
   "kernel": "python3",
   "name": "tf2-gpu.2-6.m89",
   "type": "gcloud",
   "uri": "gcr.io/deeplearning-platform-release/tf2-gpu.2-6:m89"
  },
  "kernelspec": {
   "display_name": "Python 3 (ipykernel)",
   "language": "python",
   "name": "python3"
  },
  "language_info": {
   "codemirror_mode": {
    "name": "ipython",
    "version": 3
   },
   "file_extension": ".py",
   "mimetype": "text/x-python",
   "name": "python",
   "nbconvert_exporter": "python",
   "pygments_lexer": "ipython3",
   "version": "3.8.10"
  }
 },
 "nbformat": 4,
 "nbformat_minor": 5
}
